{
 "cells": [
  {
   "cell_type": "markdown",
   "metadata": {},
   "source": [
    "# csv to json\n",
    "\n",
    "> Joseph P. Vantassel\n",
    "\n",
    "Convert cleaned `.csv` data to `.json`."
   ]
  },
  {
   "cell_type": "code",
   "execution_count": 1,
   "metadata": {},
   "outputs": [],
   "source": [
    "import json\n",
    "import math\n",
    "\n",
    "import pandas as pd"
   ]
  },
  {
   "cell_type": "code",
   "execution_count": 2,
   "metadata": {},
   "outputs": [
    {
     "data": {
      "text/html": [
       "<div>\n",
       "<style scoped>\n",
       "    .dataframe tbody tr th:only-of-type {\n",
       "        vertical-align: middle;\n",
       "    }\n",
       "\n",
       "    .dataframe tbody tr th {\n",
       "        vertical-align: top;\n",
       "    }\n",
       "\n",
       "    .dataframe thead th {\n",
       "        text-align: right;\n",
       "    }\n",
       "</style>\n",
       "<table border=\"1\" class=\"dataframe\">\n",
       "  <thead>\n",
       "    <tr style=\"text-align: right;\">\n",
       "      <th></th>\n",
       "      <th>name</th>\n",
       "      <th>degree</th>\n",
       "      <th>country</th>\n",
       "      <th>state</th>\n",
       "      <th>city</th>\n",
       "    </tr>\n",
       "  </thead>\n",
       "  <tbody>\n",
       "    <tr>\n",
       "      <th>0</th>\n",
       "      <td>Shiyuan Li</td>\n",
       "      <td>PhD</td>\n",
       "      <td>China</td>\n",
       "      <td>Guangxi</td>\n",
       "      <td>Guilin</td>\n",
       "    </tr>\n",
       "    <tr>\n",
       "      <th>1</th>\n",
       "      <td>Nolan Greth</td>\n",
       "      <td>MSc</td>\n",
       "      <td>United States</td>\n",
       "      <td>Nevada</td>\n",
       "      <td>Minden</td>\n",
       "    </tr>\n",
       "    <tr>\n",
       "      <th>2</th>\n",
       "      <td>Arijit Sarkar</td>\n",
       "      <td>MSc</td>\n",
       "      <td>India</td>\n",
       "      <td>West Bengal</td>\n",
       "      <td>Siliguri</td>\n",
       "    </tr>\n",
       "    <tr>\n",
       "      <th>3</th>\n",
       "      <td>Qiuyu Wang</td>\n",
       "      <td>PhD</td>\n",
       "      <td>China</td>\n",
       "      <td>Anhui</td>\n",
       "      <td>Anqing</td>\n",
       "    </tr>\n",
       "    <tr>\n",
       "      <th>4</th>\n",
       "      <td>Steve Xu</td>\n",
       "      <td>PhD</td>\n",
       "      <td>China</td>\n",
       "      <td>Jiangsu</td>\n",
       "      <td>Nanjing</td>\n",
       "    </tr>\n",
       "  </tbody>\n",
       "</table>\n",
       "</div>"
      ],
      "text/plain": [
       "            name degree        country        state      city\n",
       "0     Shiyuan Li    PhD          China      Guangxi    Guilin\n",
       "1    Nolan Greth    MSc  United States       Nevada    Minden\n",
       "2  Arijit Sarkar    MSc          India  West Bengal  Siliguri\n",
       "3     Qiuyu Wang    PhD          China        Anhui    Anqing\n",
       "4       Steve Xu    PhD          China      Jiangsu   Nanjing"
      ]
     },
     "execution_count": 2,
     "metadata": {},
     "output_type": "execute_result"
    }
   ],
   "source": [
    "df = pd.read_csv(\"2020_member_responses_clean.csv\")\n",
    "df.head()"
   ]
  },
  {
   "cell_type": "code",
   "execution_count": 3,
   "metadata": {},
   "outputs": [],
   "source": [
    "path = \"images/members/\"\n",
    "members = []\n",
    "for index, line in df.iterrows():\n",
    "    name, degree, country, state, city = line\n",
    "    split_name  = name.split(\" \")\n",
    "\n",
    "    fname = split_name[0].lower()\n",
    "    for _name in split_name[1:]:\n",
    "        fname += \"_\" + _name.lower()\n",
    "    fname += \".jpg\"\n",
    "    \n",
    "    if isinstance(state, (float)):\n",
    "        if math.isnan(state):\n",
    "            state = None\n",
    "\n",
    "    members.append({\"name\":name, \"path\":path + fname, \"degree\":degree, \"country\":country, \"state\":state, \"city\":city})\n",
    "        \n",
    "with open(\"members.json\", \"w\") as f:\n",
    "    json.dump(members, f)"
   ]
  },
  {
   "cell_type": "code",
   "execution_count": 4,
   "metadata": {},
   "outputs": [
    {
     "data": {
      "text/plain": [
       "32"
      ]
     },
     "execution_count": 4,
     "metadata": {},
     "output_type": "execute_result"
    }
   ],
   "source": [
    "len(members)    "
   ]
  },
  {
   "cell_type": "code",
   "execution_count": null,
   "metadata": {},
   "outputs": [],
   "source": []
  }
 ],
 "metadata": {
  "kernelspec": {
   "display_name": "Python 3",
   "language": "python",
   "name": "python3"
  },
  "language_info": {
   "codemirror_mode": {
    "name": "ipython",
    "version": 3
   },
   "file_extension": ".py",
   "mimetype": "text/x-python",
   "name": "python",
   "nbconvert_exporter": "python",
   "pygments_lexer": "ipython3",
   "version": "3.9.16"
  }
 },
 "nbformat": 4,
 "nbformat_minor": 4
}
