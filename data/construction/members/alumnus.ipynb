{
 "cells": [
  {
   "cell_type": "code",
   "execution_count": 1,
   "metadata": {},
   "outputs": [],
   "source": [
    "import json"
   ]
  },
  {
   "cell_type": "code",
   "execution_count": 2,
   "metadata": {},
   "outputs": [
    {
     "name": "stdout",
     "output_type": "stream",
     "text": [
      "nubmer of current alumnus: 40\n",
      "nubmer of current members: 37\n",
      "nubmer of previous members: 33\n"
     ]
    }
   ],
   "source": [
    "# read current alumnus.json\n",
    "with open('../../alumnus.json', 'r') as f:\n",
    "    current_alumnus = json.load(f)\n",
    "print('nubmer of current alumnus:', len(current_alumnus))\n",
    "# read current member json\n",
    "with open(\"../../members.json\", \"r\") as f:\n",
    "    current_members = json.load(f)\n",
    "print('nubmer of current members:', len(current_members))\n",
    "# read previous member json\n",
    "with open(\"../../previous_members.json\", \"r\") as f:\n",
    "    previous_members = json.load(f)\n",
    "print('nubmer of previous members:', len(previous_members))"
   ]
  },
  {
   "cell_type": "code",
   "execution_count": 3,
   "metadata": {},
   "outputs": [],
   "source": [
    "# if a previous member's name is not in current members, add them to new_alumnus\n",
    "new_alumnus_names = []\n",
    "previous_members_names = [member[\"name\"] for member in previous_members]\n",
    "current_members_names = [member[\"name\"] for member in current_members]\n",
    "current_alumnus_names = [alumnus[\"name\"] for alumnus in current_alumnus]\n",
    "for name in previous_members_names:\n",
    "    if name not in current_members_names and name not in current_alumnus_names:\n",
    "        new_alumnus_names.append(name)"
   ]
  },
  {
   "cell_type": "code",
   "execution_count": 4,
   "metadata": {},
   "outputs": [
    {
     "name": "stdout",
     "output_type": "stream",
     "text": [
      "Number of new alumnus: 0\n"
     ]
    }
   ],
   "source": [
    "print(\"Number of new alumnus:\", len(new_alumnus_names))\n",
    "for name in new_alumnus_names:\n",
    "    print(name)"
   ]
  },
  {
   "cell_type": "code",
   "execution_count": 5,
   "metadata": {},
   "outputs": [],
   "source": [
    "# create new alumnus dictionary\n",
    "new_alumnus = []\n",
    "for member in previous_members:\n",
    "    if member[\"name\"] in new_alumnus_names:\n",
    "        new_alumnus.append({\"name\":member[\"name\"], \"class\":None, \"path\":member[\"path\"], \"link\":member[\"link\"]})"
   ]
  },
  {
   "cell_type": "code",
   "execution_count": 6,
   "metadata": {},
   "outputs": [
    {
     "name": "stdout",
     "output_type": "stream",
     "text": [
      "Number of new alumnus: 0\n"
     ]
    }
   ],
   "source": [
    "print(\"Number of new alumnus:\", len(new_alumnus))"
   ]
  },
  {
   "cell_type": "code",
   "execution_count": 7,
   "metadata": {},
   "outputs": [
    {
     "name": "stdout",
     "output_type": "stream",
     "text": [
      "nubmer of updated alumnus: 40\n"
     ]
    }
   ],
   "source": [
    "# update current alumnus.json\n",
    "current_alumnus += new_alumnus\n",
    "# sort current alumnus.json by name\n",
    "current_alumnus = sorted(current_alumnus, key=lambda x: x[\"name\"])\n",
    "print('nubmer of updated alumnus:', len(current_alumnus))"
   ]
  },
  {
   "cell_type": "code",
   "execution_count": 8,
   "metadata": {},
   "outputs": [
    {
     "name": "stdout",
     "output_type": "stream",
     "text": [
      "nubmer of updated alumnus: 40\n"
     ]
    }
   ],
   "source": [
    "# return member list\n",
    "return_members = []\n",
    "for alumnus in current_alumnus:\n",
    "    if alumnus[\"name\"] in [member[\"name\"] for member in current_members]:\n",
    "        current_alumnus.remove(alumnus)\n",
    "        print(\"Return member:\", alumnus[\"name\"])\n",
    "print('nubmer of updated alumnus:', len(current_alumnus))\n",
    "# write to alumnus.json in the current folder\n",
    "with open('alumnus.json', 'w') as f:\n",
    "    json.dump(current_alumnus, f, indent=4)"
   ]
  },
  {
   "cell_type": "code",
   "execution_count": 9,
   "metadata": {},
   "outputs": [],
   "source": [
    "# Check the file and copy the file to the data folder if it looks good"
   ]
  },
  {
   "cell_type": "code",
   "execution_count": null,
   "metadata": {},
   "outputs": [],
   "source": []
  }
 ],
 "metadata": {
  "kernelspec": {
   "display_name": "base",
   "language": "python",
   "name": "python3"
  },
  "language_info": {
   "codemirror_mode": {
    "name": "ipython",
    "version": 3
   },
   "file_extension": ".py",
   "mimetype": "text/x-python",
   "name": "python",
   "nbconvert_exporter": "python",
   "pygments_lexer": "ipython3",
   "version": "3.9.16"
  },
  "orig_nbformat": 4
 },
 "nbformat": 4,
 "nbformat_minor": 2
}
