{
 "cells": [
  {
   "cell_type": "code",
   "execution_count": 12,
   "metadata": {},
   "outputs": [],
   "source": [
    "import json"
   ]
  },
  {
   "cell_type": "code",
   "execution_count": 26,
   "metadata": {},
   "outputs": [
    {
     "name": "stdout",
     "output_type": "stream",
     "text": [
      "nubmer of current alumnus: 25\n",
      "nubmer of current members: 22\n",
      "nubmer of previous members: 34\n"
     ]
    }
   ],
   "source": [
    "# read current alumnus.json\n",
    "with open('../../alumnus.json', 'r') as f:\n",
    "    current_alumnus = json.load(f)\n",
    "print('nubmer of current alumnus:', len(current_alumnus))\n",
    "# read current member json\n",
    "with open(\"../../members.json\", \"r\") as f:\n",
    "    current_members = json.load(f)\n",
    "print('nubmer of current members:', len(current_members))\n",
    "# read previous member json\n",
    "with open(\"../../previous_members.json\", \"r\") as f:\n",
    "    previous_members = json.load(f)\n",
    "print('nubmer of previous members:', len(previous_members))"
   ]
  },
  {
   "cell_type": "code",
   "execution_count": 27,
   "metadata": {},
   "outputs": [],
   "source": [
    "# if a previous member's name is not in current members, add them to new_alumnus\n",
    "new_alumnus_names = []\n",
    "previous_members_names = [member[\"name\"] for member in previous_members]\n",
    "current_members_names = [member[\"name\"] for member in current_members]\n",
    "for name in previous_members_names:\n",
    "    if name not in current_members_names:\n",
    "        new_alumnus_names.append(name)"
   ]
  },
  {
   "cell_type": "code",
   "execution_count": 28,
   "metadata": {},
   "outputs": [
    {
     "name": "stdout",
     "output_type": "stream",
     "text": [
      "Number of new alumnus: 20\n",
      "A. Mert Kavala\n",
      "Adityo Andikaputra\n",
      "Angel de la Cruz\n",
      "Anthony Matar\n",
      "Ashish Govindan\n",
      "Brent Sordo\n",
      "Carlos Acosta\n",
      "Chih-Yu Tung\n",
      "Dawie Marx\n",
      "Etienne Gonzalez\n",
      "Fernando Ramirez\n",
      "Jeremy Goethals\n",
      "Jorge Loaisiga\n",
      "Julia Grasley\n",
      "Mehmet Turkezer\n",
      "Sharen Wallace\n",
      "Venkataraman Ramesh\n",
      "Will Pliska\n",
      "Yiwei Ye\n",
      "Yongjin Choi\n"
     ]
    }
   ],
   "source": [
    "print(\"Number of new alumnus:\", len(new_alumnus_names))\n",
    "for name in new_alumnus_names:\n",
    "    print(name)"
   ]
  },
  {
   "cell_type": "code",
   "execution_count": 29,
   "metadata": {},
   "outputs": [],
   "source": [
    "# create new alumnus dictionary\n",
    "new_alumnus = []\n",
    "for member in previous_members:\n",
    "    if member[\"name\"] in new_alumnus_names:\n",
    "        new_alumnus.append({\"name\":member[\"name\"], \"class\":None, \"path\":member[\"path\"], \"link\":member[\"link\"]})"
   ]
  },
  {
   "cell_type": "code",
   "execution_count": 32,
   "metadata": {},
   "outputs": [
    {
     "name": "stdout",
     "output_type": "stream",
     "text": [
      "Number of new alumnus: 20\n"
     ]
    }
   ],
   "source": [
    "print(\"Number of new alumnus:\", len(new_alumnus))"
   ]
  },
  {
   "cell_type": "code",
   "execution_count": 33,
   "metadata": {},
   "outputs": [
    {
     "name": "stdout",
     "output_type": "stream",
     "text": [
      "nubmer of updated alumnus: 45\n"
     ]
    }
   ],
   "source": [
    "# update current alumnus.json\n",
    "current_alumnus += new_alumnus\n",
    "# sort current alumnus.json by name\n",
    "current_alumnus = sorted(current_alumnus, key=lambda x: x[\"name\"])\n",
    "print('nubmer of updated alumnus:', len(current_alumnus))\n",
    "# write to alumnus.json in the current folder\n",
    "with open('alumnus.json', 'w') as f:\n",
    "    json.dump(current_alumnus, f, indent=4)"
   ]
  },
  {
   "cell_type": "code",
   "execution_count": null,
   "metadata": {},
   "outputs": [],
   "source": [
    "# Check the file and copy the file to the data folder if it looks good"
   ]
  }
 ],
 "metadata": {
  "kernelspec": {
   "display_name": "base",
   "language": "python",
   "name": "python3"
  },
  "language_info": {
   "codemirror_mode": {
    "name": "ipython",
    "version": 3
   },
   "file_extension": ".py",
   "mimetype": "text/x-python",
   "name": "python",
   "nbconvert_exporter": "python",
   "pygments_lexer": "ipython3",
   "version": "3.9.16"
  },
  "orig_nbformat": 4
 },
 "nbformat": 4,
 "nbformat_minor": 2
}
