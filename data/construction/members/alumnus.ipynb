{
 "cells": [
  {
   "cell_type": "code",
   "execution_count": 1,
   "metadata": {},
   "outputs": [],
   "source": [
    "import json"
   ]
  },
  {
   "cell_type": "code",
   "execution_count": 18,
   "metadata": {},
   "outputs": [
    {
     "name": "stdout",
     "output_type": "stream",
     "text": [
      "29\n"
     ]
    }
   ],
   "source": [
    "# read current member json\n",
    "with open(\"../../members.json\", \"r\") as f:\n",
    "    current_members = json.load(f)\n",
    "# list of current member photo name\n",
    "current_member_files = [member['path'].split(\"/\")[-1] for member in current_members]\n",
    "print(len(current_member_files))"
   ]
  },
  {
   "cell_type": "code",
   "execution_count": 3,
   "metadata": {},
   "outputs": [],
   "source": [
    "import os\n",
    " # find all file names in images directory\n",
    "mypath = '../../../images/members/'\n",
    "files = os.listdir(mypath)\n",
    "# append to alumni list if the file is not in current member list\n",
    "alumni_files = []\n",
    "for file in files:\n",
    "    if file not in current_member_files:\n",
    "        alumni_files.append(file)"
   ]
  },
  {
   "cell_type": "code",
   "execution_count": 17,
   "metadata": {},
   "outputs": [
    {
     "name": "stdout",
     "output_type": "stream",
     "text": [
      "54\n"
     ]
    }
   ],
   "source": [
    "print(len(files))"
   ]
  },
  {
   "cell_type": "code",
   "execution_count": 14,
   "metadata": {},
   "outputs": [],
   "source": [
    "alumnus = []\n",
    "path = \"images/members/\"\n",
    "for alumni_file in alumni_files:\n",
    "    lower_name = alumni_file.lower() # prevent JPG or jpg case sensitive\n",
    "    name = lower_name.split(\".jp\")[0]\n",
    "    clean_name = ' '.join(name.title().replace(\"_\",\" \").split())\n",
    "    alumnus.append({\"name\":clean_name, \"class\":None, \"path\":path + alumni_file, \"link\":None})\n",
    "sorted_alumnus = sorted(alumnus, key=lambda x: x['name'])\n"
   ]
  },
  {
   "cell_type": "code",
   "execution_count": null,
   "metadata": {},
   "outputs": [],
   "source": [
    "with open(\"alumnus.json\", \"w\") as f:\n",
    "    json.dump(sorted_alumnus, f, indent=4)"
   ]
  },
  {
   "cell_type": "code",
   "execution_count": 15,
   "metadata": {},
   "outputs": [
    {
     "data": {
      "text/plain": [
       "28"
      ]
     },
     "execution_count": 15,
     "metadata": {},
     "output_type": "execute_result"
    }
   ],
   "source": [
    "len(sorted_alumnus)"
   ]
  },
  {
   "cell_type": "code",
   "execution_count": null,
   "metadata": {},
   "outputs": [],
   "source": []
  }
 ],
 "metadata": {
  "kernelspec": {
   "display_name": "base",
   "language": "python",
   "name": "python3"
  },
  "language_info": {
   "codemirror_mode": {
    "name": "ipython",
    "version": 3
   },
   "file_extension": ".py",
   "mimetype": "text/x-python",
   "name": "python",
   "nbconvert_exporter": "python",
   "pygments_lexer": "ipython3",
   "version": "3.9.16"
  },
  "orig_nbformat": 4
 },
 "nbformat": 4,
 "nbformat_minor": 2
}
